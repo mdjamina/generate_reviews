{
  "cells": [
    {
      "cell_type": "markdown",
      "metadata": {
        "id": "view-in-github",
        "colab_type": "text"
      },
      "source": [
        "<a href=\"https://colab.research.google.com/github/mdjamina/generate_reviews/blob/main/src/project_report.ipynb\" target=\"_parent\"><img src=\"https://colab.research.google.com/assets/colab-badge.svg\" alt=\"Open In Colab\"/></a>"
      ]
    },
    {
      "cell_type": "code",
      "execution_count": null,
      "metadata": {
        "id": "IrCCfnFpl8R3"
      },
      "outputs": [],
      "source": [
        "import numpy as np\n",
        "from collections import defaultdict"
      ]
    },
    {
      "cell_type": "markdown",
      "metadata": {
        "id": "55giAncQfrk7"
      },
      "source": [
        "**Project Semester 1**\n",
        "\n",
        "Estimating a Language Model to Generate Wine Reviews"
      ]
    },
    {
      "cell_type": "markdown",
      "metadata": {
        "id": "oBQna0udf7Q6"
      },
      "source": [
        "To get the probability of the word $w_{i}$, we need to use the conditional probability formula.\n",
        "Conditional probability is the probability of an event occurring with a relationship to one or more others.\n",
        "\n",
        "Here is the formula:\n",
        "\n",
        "$p(w_{i}|w_{i-1},w_{i-2}) = \\frac{p(w_{i},w_{i-1},w_{i-2})}{p(w_{i-1},w_{i-2})}$"
      ]
    },
    {
      "cell_type": "markdown",
      "source": [
        "## Tokenization"
      ],
      "metadata": {
        "id": "yNmWkrK-Dj9o"
      }
    },
    {
      "cell_type": "code",
      "execution_count": null,
      "metadata": {
        "id": "Q32f3-8MfU6l"
      },
      "outputs": [],
      "source": [
        "def tokenization( string ):\n",
        "  \"\"\"\n",
        "  Method to perform tokenization\n",
        "\n",
        "  returns the list of words\n",
        "\n",
        "  Args:\n",
        "  * string : text to split\n",
        "\n",
        "  \"\"\"\n",
        "  string =string.replace(\"’\",\"'\").replace(\" '\",\"'\")\n",
        "  pre_poncts = ['(', '[', '{','\"','«']\n",
        "  post_poncts = [')', ']', '}', '.', '?', ',', ';', '!', ':','\"','»']\n",
        "  apos = \"'\"\n",
        "  line_tokens = []\n",
        "  for w in string.split():\n",
        "      #print(\"w=\",w)\n",
        "      new_tokens = []\n",
        "      if len( w ) > 0:\n",
        "          \n",
        "          if (w[0] in pre_poncts) and len(w)>1:\n",
        "              new_tokens += [ w[0],  w[1:] ]\n",
        "              \n",
        "          else:\n",
        "              new_tokens += [ w ]\n",
        "\n",
        "          if new_tokens[-1][-1] in post_poncts and len(w)>1:\n",
        "              new_tokens.append( new_tokens[-1][-1])\n",
        "              new_tokens[-2] = new_tokens[-2][0:-1]\n",
        "              #print(\"+post_poncts|\",\"new_token=\",new_tokens)\n",
        "              \n",
        "          line_tokens += new_tokens\n",
        "  return line_tokens"
      ]
    },
    {
      "cell_type": "markdown",
      "source": [
        "## Make trigrams"
      ],
      "metadata": {
        "id": "41NdD7PtDqJA"
      }
    },
    {
      "cell_type": "code",
      "execution_count": null,
      "metadata": {
        "id": "PQB_aAYol_wv"
      },
      "outputs": [],
      "source": [
        "def make_trigrams(string):\n",
        "  \"\"\"\n",
        "  returns the list of successive triplets from a\n",
        "  string of words.\n",
        "\n",
        "  Args:\n",
        "    * string : text to split  \n",
        "  \"\"\"\n",
        "  words = tokenization(string)\n",
        "  return [(i,j,k) for (i,j,k) in zip(*[words[i:] for i in range(3)])]"
      ]
    },
    {
      "cell_type": "code",
      "execution_count": null,
      "metadata": {
        "colab": {
          "base_uri": "https://localhost:8080/"
        },
        "id": "B_IfpzyfvX3v",
        "outputId": "f2442651-81de-437f-fee6-59a4d93806ad"
      },
      "outputs": [
        {
          "data": {
            "text/plain": [
              "[('I', 'love', 'chocolate'),\n",
              " ('love', 'chocolate', 'ice-cream'),\n",
              " ('chocolate', 'ice-cream', '.')]"
            ]
          },
          "execution_count": 3,
          "metadata": {},
          "output_type": "execute_result"
        }
      ],
      "source": [
        "#test\n",
        "sentence = \"I love chocolate ice-cream.\"\n",
        "make_trigrams(sentence)"
      ]
    },
    {
      "cell_type": "markdown",
      "metadata": {
        "id": "FEyC6c8R7wD8"
      },
      "source": [
        "### Trigrams counter\n"
      ]
    },
    {
      "cell_type": "code",
      "execution_count": null,
      "metadata": {
        "id": "5yxN35liJXno"
      },
      "outputs": [],
      "source": [
        "\n",
        "def trigrams_counter(corpus_path):\n",
        "  \"\"\"\n",
        "  A count table constructer\n",
        "\n",
        "  \"\"\"\n",
        "  dict_counter= {}\n",
        "  with open(corpus_path,'r') as corpus:\n",
        "    for line in corpus:\n",
        "    \n",
        "      for ngrams in make_trigrams(line):\n",
        "        key = (ngrams[:2])\n",
        "        value = ngrams[2]\n",
        "        if key not in dict_counter.keys():\n",
        "          dict_counter[key]=defaultdict(int)\n",
        "        \n",
        "        dict_counter[key][value]+=1\n",
        "  return dict_counter"
      ]
    },
    {
      "cell_type": "code",
      "execution_count": null,
      "metadata": {
        "colab": {
          "base_uri": "https://localhost:8080/"
        },
        "id": "_XtkkE0UL-w_",
        "outputId": "3deb9a36-1ffe-445e-c165-9b458abc430f"
      },
      "outputs": [
        {
          "data": {
            "text/plain": [
              "{('BEGIN', 'NOW'): defaultdict(int, {'I': 2}),\n",
              " ('I', 'do'): defaultdict(int, {'not': 1}),\n",
              " ('I', 'like'): defaultdict(int, {'chocolate': 1}),\n",
              " ('NOW', 'I'): defaultdict(int, {'do': 1, 'like': 1}),\n",
              " ('chocolate', 'ice-cream'): defaultdict(int, {'.': 1}),\n",
              " ('chocolate', 'pudding'): defaultdict(int, {'.': 1}),\n",
              " ('do', 'not'): defaultdict(int, {'like': 1}),\n",
              " ('ice-cream', '.'): defaultdict(int, {'END': 1}),\n",
              " ('like', 'chocolate'): defaultdict(int, {'ice-cream': 1, 'pudding': 1}),\n",
              " ('not', 'like'): defaultdict(int, {'chocolate': 1}),\n",
              " ('pudding', '.'): defaultdict(int, {'END': 1})}"
            ]
          },
          "execution_count": 8,
          "metadata": {},
          "output_type": "execute_result"
        }
      ],
      "source": [
        "trigrams_counter('./test_reviews.txt')"
      ]
    },
    {
      "cell_type": "markdown",
      "source": [
        "## Estimates the probabilities"
      ],
      "metadata": {
        "id": "u_Tcj__iD5To"
      }
    },
    {
      "cell_type": "code",
      "execution_count": null,
      "metadata": {
        "id": "ggjhs_xrUtqk"
      },
      "outputs": [],
      "source": [
        "def make_conditional_probas(corpus_path):\n",
        "  \"\"\"\n",
        "  A function to estimates the probabilities of all the words\n",
        "  from a file\n",
        "  \"\"\"\n",
        "  co_proba = {}\n",
        "\n",
        "  #get the count table\n",
        "  count_table = trigrams_counter(corpus_path)\n",
        "\n",
        "  #calculate conditional probability for each distrib \n",
        "  for key in count_table:\n",
        "    count_ab = sum([n for n in count_table[key].values()])\n",
        "    co_proba[key] = { c:count_abc/count_ab for c,count_abc in count_table[key].items() }\n",
        "    \n",
        "  return co_proba"
      ]
    },
    {
      "cell_type": "code",
      "execution_count": null,
      "metadata": {
        "colab": {
          "base_uri": "https://localhost:8080/"
        },
        "id": "-kM1LJzVNCwe",
        "outputId": "53d3d51b-d25e-4ead-bc43-69e85fa216cb"
      },
      "outputs": [
        {
          "data": {
            "text/plain": [
              "{('BEGIN', 'NOW'): {'I': 1.0},\n",
              " ('I', 'do'): {'not': 1.0},\n",
              " ('I', 'like'): {'chocolate': 1.0},\n",
              " ('NOW', 'I'): {'do': 0.5, 'like': 0.5},\n",
              " ('chocolate', 'ice-cream'): {'.': 1.0},\n",
              " ('chocolate', 'pudding'): {'.': 1.0},\n",
              " ('do', 'not'): {'like': 1.0},\n",
              " ('ice-cream', '.'): {'END': 1.0},\n",
              " ('like', 'chocolate'): {'ice-cream': 0.5, 'pudding': 0.5},\n",
              " ('not', 'like'): {'chocolate': 1.0},\n",
              " ('pudding', '.'): {'END': 1.0}}"
            ]
          },
          "execution_count": 10,
          "metadata": {},
          "output_type": "execute_result"
        }
      ],
      "source": [
        "make_conditional_probas('./test_reviews.txt')"
      ]
    },
    {
      "cell_type": "markdown",
      "metadata": {
        "id": "AHHjIWeCSjLk"
      },
      "source": [
        "## 2. Generation"
      ]
    },
    {
      "cell_type": "markdown",
      "metadata": {
        "id": "4e_h_ViISn78"
      },
      "source": [
        ""
      ]
    },
    {
      "cell_type": "code",
      "execution_count": null,
      "metadata": {
        "id": "cXA1Ocq7S2g6"
      },
      "outputs": [],
      "source": [
        "def sample_from_discrete_distrib(distrib):\n",
        "  words, probas = zip(*distrib.items())\n",
        "  probas = np.asarray(probas).astype('float64')/np.sum(probas)\n",
        "  return np.random.choice(words, p=probas)"
      ]
    },
    {
      "cell_type": "markdown",
      "metadata": {
        "id": "4_8SO4sMYw3D"
      },
      "source": [
        "### 1. initialize the history\n",
        "\n",
        "to initialise history we must use the bigram ('BEGIN','NOW')"
      ]
    },
    {
      "cell_type": "code",
      "execution_count": null,
      "metadata": {
        "colab": {
          "base_uri": "https://localhost:8080/",
          "height": 35
        },
        "id": "aKyqP7VyWHVa",
        "outputId": "8b45a704-4dea-4d0e-d84f-baf1c1e2054e"
      },
      "outputs": [
        {
          "data": {
            "application/vnd.google.colaboratory.intrinsic+json": {
              "type": "string"
            },
            "text/plain": [
              "'Focused'"
            ]
          },
          "execution_count": 12,
          "metadata": {},
          "output_type": "execute_result"
        }
      ],
      "source": [
        "co_probas = make_conditional_probas('./wine2.txt')\n",
        "\n",
        "sample_from_discrete_distrib(co_probas[('BEGIN', 'NOW')])"
      ]
    },
    {
      "cell_type": "markdown",
      "metadata": {
        "id": "asKBn1GHY9bC"
      },
      "source": [
        "### 2. The generate function implementation\n"
      ]
    },
    {
      "cell_type": "code",
      "execution_count": null,
      "metadata": {
        "id": "SKZ6lCeSY8mB"
      },
      "outputs": [],
      "source": [
        "def generate(conditional_probas):\n",
        "  \"\"\"\n",
        "  implementation \n",
        "  \"\"\"\n",
        "  ws = ' '\n",
        "\n",
        "  #init history\n",
        "  w_i2 = 'BEGIN'\n",
        "  w_i1 = 'NOW'\n",
        "  h = conditional_probas[(w_i2, w_i1)]\n",
        "  w_i = sample_from_discrete_distrib(h)\n",
        "\n",
        "  sent = w_i\n",
        "\n",
        "  while( w_i!='END'):\n",
        "    w_i2 = w_i1\n",
        "    w_i1 = w_i\n",
        "    w_i = sample_from_discrete_distrib(conditional_probas[(w_i2, w_i1)])\n",
        "    if w_i == 'END': break \n",
        "    if (w_i in \".,\") or w_i1 == 'NOW' : \n",
        "      ws =''\n",
        "    else: \n",
        "      ws =' '\n",
        "    sent+=ws + w_i\n",
        " \n",
        "  return sent"
      ]
    },
    {
      "cell_type": "code",
      "execution_count": null,
      "metadata": {
        "colab": {
          "base_uri": "https://localhost:8080/",
          "height": 35
        },
        "id": "EB7S9xzEZMxC",
        "outputId": "7d2d910f-45e7-4959-ed91-b9b2f946deb2"
      },
      "outputs": [
        {
          "data": {
            "application/vnd.google.colaboratory.intrinsic+json": {
              "type": "string"
            },
            "text/plain": [
              "'4149 Daily Wine Picks found in this category.'"
            ]
          },
          "execution_count": 24,
          "metadata": {},
          "output_type": "execute_result"
        }
      ],
      "source": [
        "generate(co_probas)"
      ]
    },
    {
      "cell_type": "code",
      "execution_count": null,
      "metadata": {
        "id": "pBhz8RU1ZUm-"
      },
      "outputs": [],
      "source": [
        "def generate(w_i2,w_i1,conditional_probas):\n",
        "  \"\"\"\n",
        "  implementation by recursive algorithm\n",
        "  \"\"\"\n",
        "  ws = ' '\n",
        "\n",
        "  w_i = sample_from_discrete_distrib(conditional_probas[(w_i2, w_i1)])\n",
        "  \n",
        "  if w_i=='END' : return ''\n",
        "\n",
        "  if (w_i in \".,\") or w_i1 == 'NOW' : ws =''  \n",
        "\n",
        "  return ws + w_i +  generate(w_i1,w_i,conditional_probas)\n"
      ]
    },
    {
      "cell_type": "code",
      "execution_count": null,
      "metadata": {
        "colab": {
          "base_uri": "https://localhost:8080/",
          "height": 35
        },
        "id": "nrrfSyMcRJhp",
        "outputId": "5a0bf6db-a371-4ed3-f23a-0c42b711f65c"
      },
      "outputs": [
        {
          "data": {
            "application/vnd.google.colaboratory.intrinsic+json": {
              "type": "string"
            },
            "text/plain": [
              "'4079 Daily Wine Picks found in this category.'"
            ]
          },
          "execution_count": 26,
          "metadata": {},
          "output_type": "execute_result"
        }
      ],
      "source": [
        "generate('BEGIN','NOW',co_probas)"
      ]
    },
    {
      "cell_type": "markdown",
      "metadata": {
        "id": "uHwOsVU4bx_i"
      },
      "source": [
        "stroke of luck the same sentence produced ✌"
      ]
    }
  ],
  "metadata": {
    "colab": {
      "name": "Project_NLP_S1.ipynb",
      "provenance": [],
      "include_colab_link": true
    },
    "kernelspec": {
      "display_name": "Python 3",
      "name": "python3"
    },
    "language_info": {
      "name": "python"
    }
  },
  "nbformat": 4,
  "nbformat_minor": 0
}